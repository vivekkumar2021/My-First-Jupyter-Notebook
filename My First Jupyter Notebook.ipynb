{
 "cells": [
  {
   "cell_type": "markdown",
   "metadata": {},
   "source": [
    "# My Jupyter Notebook on IBM Data Science Experience\n",
    "\n",
    "<a id='top_page'></a>\n",
    "       "
   ]
  },
  {
   "cell_type": "markdown",
   "metadata": {},
   "source": [
    "**VIVEK KUMAR**\n",
    "\n",
    "Desired Occupation : Data Scientist\n"
   ]
  },
  {
   "cell_type": "markdown",
   "metadata": {},
   "source": [
    "*I am interested in Data Science because it gives me the opportunity to play with data. I find it interesting that we can manipulate data and get the most out of it in various industries like Healthcare, Automobile, IT, Consulting, etc.*\n"
   ]
  },
  {
   "cell_type": "markdown",
   "metadata": {},
   "source": [
    "### My code will give the output - Hello World"
   ]
  },
  {
   "cell_type": "code",
   "execution_count": 25,
   "metadata": {},
   "outputs": [
    {
     "name": "stdout",
     "output_type": "stream",
     "text": [
      "Hello World\n"
     ]
    }
   ],
   "source": [
    "print('Hello World')"
   ]
  },
  {
   "cell_type": "markdown",
   "metadata": {},
   "source": [
    "## Cell 6 : Markdown Equations\n",
    "\n",
    "#### No 1. Bulleted List\n",
    "\n",
    "* Item no 1\n",
    "* Item no 2\n",
    "    *  Sub-item no 1\n",
    "    *  Sub-item no 2\n",
    "       * Subsub-item no 1\n",
    "       * Subsub-item no 2"
   ]
  },
  {
   "cell_type": "markdown",
   "metadata": {},
   "source": [
    "#### No 2. Numbered List\n",
    "1. Item no 1\n",
    "2. Item no 2\n",
    "1. Item no 3\n",
    "  1. Sub-item no 1\n",
    "  2. Sub-item no 2\n",
    "  1. Sub-item no 3\n",
    "    1. Subsub-item no 1\n",
    "    2. Subsub-item no 2\n",
    "    1. Subsub-item no 3\n",
    "    \n",
    "#### <u>NOTE</u> : Numbering the itmes is not necessary as long as we put them in a sequence. \n",
    "    "
   ]
  },
  {
   "cell_type": "markdown",
   "metadata": {},
   "source": [
    "#### No 3. Links\n",
    "1. Hyperlink -  [Google it](https://www.google.com/)\n",
    "\n",
    "2. Link inside the document (useful for linking table of contents)\n",
    "   * Put html anchor at the target location\n",
    "     * ```<a id='target_name'></a>```\n",
    "   * Put a link on the target\n",
    "     * ```[link_text](#target_name)```\n",
    "   * Eg :- [Here's the link to the top of the page](#top_page)"
   ]
  },
  {
   "cell_type": "markdown",
   "metadata": {},
   "source": [
    "#### No 4. Bold, Italicize, Colored Text & Underline\n",
    "\n",
    "1. Bold - Text b/w *'s \n",
    "   * Eg :- *Hello World*\n",
    "   \n",
    "\n",
    "2. Italicize - Text b/w **'s\n",
    "   * Eg :- **Hello World**\n",
    "   \n",
    "   \n",
    "3. Colored Text - ```<font color='green'>Hello World</font>```\n",
    "   * Eg :- <font color='green'>Hello World</font>\n",
    "\n",
    "\n",
    "4. Underline - ```<u>Hi Everyone. Hello World.</u>```\n",
    "   * Eg :- <u>Hi Everyone. Hello World.</u>"
   ]
  },
  {
   "cell_type": "markdown",
   "metadata": {},
   "source": [
    "#### No 5. Format Code\n",
    "1. To write code snipets - Use ```\"`\"``` three times\n",
    "     * Eg :- ```This is a code```\n",
    "     \n",
    "     \n",
    "2. If the first line is like this:  **```python**,\n",
    "   then subsequent line will get syntax coloring\n",
    "   * Eg :- \n",
    "   ```python\n",
    "   print('Hello World')```"
   ]
  },
  {
   "cell_type": "markdown",
   "metadata": {},
   "source": [
    "#### No 6 Blockquotes\n",
    "```> This text is a  quote. Quote will extend depending upon the width of your browser.```\n",
    "```> To add another line, use a blank line first.```\n",
    "\n",
    "```> Use it like this.```\n",
    "\n",
    "> This text is a  quote. Quote will extend depending upon the width of your browser.\n",
    "> To add another line, use a blank line first.\n",
    "\n",
    "> Use it like this.\n"
   ]
  },
  {
   "cell_type": "markdown",
   "metadata": {},
   "source": [
    "#### No 7 Tables\n",
    "\n",
    "```| Left-aligned | Center-aligned | Right-aligned |\n",
    " |:------------:|:--------------:|:-------------:|\n",
    " | Pressure     | P              | pa            |\n",
    " | Temperature  | T              | K             |\n",
    " | Velocity     | V              | m^3           |```\n",
    "\n",
    "\n",
    "| Left-aligned | Center-aligned | Right-aligned |\n",
    "|:------------:|:--------------:|:-------------:|\n",
    "| Pressure     | P              | pa            |\n",
    "| Temperature  | T              | K             |\n",
    "| Velocity     | V              | m^3           |\n",
    "\n"
   ]
  },
  {
   "cell_type": "markdown",
   "metadata": {},
   "source": [
    "#### No 8 Images\n",
    "1. Online image : ```<img src=https://store-images.s-microsoft.com/image/apps.53697.64737940845214615.82a9a5cd-32c5-4fb1-a951-2a7b976ad460.f0e0779f-450f-421f-b0c6-7b04bf25fa60 width=300>```\n",
    "   * Eg :- ***The Sims 4*** <img src=https://store-images.s-microsoft.com/image/apps.53697.64737940845214615.82a9a5cd-32c5-4fb1-a951-2a7b976ad460.f0e0779f-450f-421f-b0c6-7b04bf25fa60 width=300>\n",
    "   \n",
    "   \n",
    "\n",
    "\n",
    "\n",
    "\n",
    "\n",
    "2. Local image : ***Still Searching...***"
   ]
  },
  {
   "cell_type": "markdown",
   "metadata": {},
   "source": [
    "#### No 9 IFrames\n",
    "\n",
    "* Useful for importing other files, like PDF's.\n",
    "   * Eg :- \n",
    "   \n",
    "\n",
    "```from IPython.display import IFrame\n",
    "IFrame(\"PDF's Link\", width=800, height=600)```"
   ]
  },
  {
   "cell_type": "code",
   "execution_count": 1,
   "metadata": {
    "scrolled": true
   },
   "outputs": [
    {
     "data": {
      "text/html": [
       "\n",
       "        <iframe\n",
       "            width=\"600\"\n",
       "            height=\"500\"\n",
       "            src=\"https://www.njoy.ro/uploads/product/282/documents/c2cb688410.pdf\"\n",
       "            frameborder=\"0\"\n",
       "            allowfullscreen\n",
       "        ></iframe>\n",
       "        "
      ],
      "text/plain": [
       "<IPython.lib.display.IFrame at 0x7facc9303cf8>"
      ]
     },
     "execution_count": 1,
     "metadata": {},
     "output_type": "execute_result"
    }
   ],
   "source": [
    "from IPython.display import IFrame\n",
    "IFrame(\"https://www.njoy.ro/uploads/product/282/documents/c2cb688410.pdf\", width=600, height=500)"
   ]
  },
  {
   "cell_type": "markdown",
   "metadata": {},
   "source": [
    "#### No 10. RStudio - Create map using Latitude and Longitude\n",
    "\n",
    "```\n",
    "\n",
    "\n",
    "library(leaflet)\n",
    "\n",
    "#Taj Mahal GPS\n",
    "tm_latidude = 27.1751\n",
    "tm_longitude =  78.0421\n",
    "\n",
    "#Create Map\n",
    "m <- leaflet() %>% setView(lng = tm_longitude,\n",
    "                           lat = tm_latitude,\n",
    "                           zoom = 16)\n",
    "                           \n",
    "m %>% addTitles()```"
   ]
  }
 ],
 "metadata": {
  "kernelspec": {
   "display_name": "Python",
   "language": "python",
   "name": "conda-env-python-py"
  },
  "language_info": {
   "codemirror_mode": {
    "name": "ipython",
    "version": 3
   },
   "file_extension": ".py",
   "mimetype": "text/x-python",
   "name": "python",
   "nbconvert_exporter": "python",
   "pygments_lexer": "ipython3",
   "version": "3.6.10"
  }
 },
 "nbformat": 4,
 "nbformat_minor": 4
}
